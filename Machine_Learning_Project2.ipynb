{
  "nbformat": 4,
  "nbformat_minor": 0,
  "metadata": {
    "colab": {
      "provenance": [],
      "include_colab_link": true
    },
    "kernelspec": {
      "name": "python3",
      "display_name": "Python 3"
    },
    "language_info": {
      "name": "python"
    }
  },
  "cells": [
    {
      "cell_type": "markdown",
      "metadata": {
        "id": "view-in-github",
        "colab_type": "text"
      },
      "source": [
        "<a href=\"https://colab.research.google.com/github/Utkarshsahu16/YBI-Internship/blob/main/Machine_Learning_Project2.ipynb\" target=\"_parent\"><img src=\"https://colab.research.google.com/assets/colab-badge.svg\" alt=\"Open In Colab\"/></a>"
      ]
    },
    {
      "cell_type": "markdown",
      "source": [
        "## **Hand Written Digit Prediction - Classification Analysis**"
      ],
      "metadata": {
        "id": "Kpw2gdzWxwma"
      }
    },
    {
      "cell_type": "markdown",
      "source": [
        "The digits consist of 8x8 pixel images of digits. The images attribute of th dataset stores 8x8 arrays of grayscale values for each image. We will use these arrays to visualize the first 4 images. The target attributes of the dataset stores the digit each image represents"
      ],
      "metadata": {
        "id": "9YjvqLk8ydqu"
      }
    },
    {
      "cell_type": "markdown",
      "source": [
        "# **Import Library**"
      ],
      "metadata": {
        "id": "Es9YhC7VQFk-"
      }
    },
    {
      "cell_type": "code",
      "execution_count": null,
      "metadata": {
        "id": "YilyfF4IlSUV"
      },
      "outputs": [],
      "source": [
        "import pandas as pd"
      ]
    },
    {
      "cell_type": "code",
      "source": [
        "import numpy as np"
      ],
      "metadata": {
        "id": "kYcPt5Xbl0ga"
      },
      "execution_count": null,
      "outputs": []
    },
    {
      "cell_type": "code",
      "source": [
        "import matplotlib.pyplot as plt"
      ],
      "metadata": {
        "id": "py8iZvPkl8k-"
      },
      "execution_count": null,
      "outputs": []
    },
    {
      "cell_type": "markdown",
      "source": [
        "# **Import Data**"
      ],
      "metadata": {
        "id": "QoRLCSxWQQ8H"
      }
    },
    {
      "cell_type": "code",
      "source": [
        "from sklearn.datasets import load_digits"
      ],
      "metadata": {
        "id": "8ctL1n7vmMdR"
      },
      "execution_count": null,
      "outputs": []
    },
    {
      "cell_type": "code",
      "source": [
        "df = load_digits()"
      ],
      "metadata": {
        "id": "C1Ju_mfFnP3u"
      },
      "execution_count": null,
      "outputs": []
    },
    {
      "cell_type": "code",
      "source": [
        "_, axes = plt.subplots(nrows=1, ncols=4, figsize=(10, 3))\n",
        "for ax, image, label in zip(axes, df.images, df.target):\n",
        "    ax.set_axis_off()\n",
        "    ax.imshow(image, cmap=plt.cm.gray_r, interpolation='nearest')\n",
        "    ax.set_title('Training: %i' % label)"
      ],
      "metadata": {
        "colab": {
          "base_uri": "https://localhost:8080/",
          "height": 227
        },
        "id": "tDtq-Y3bnc49",
        "outputId": "fe627b5c-838c-4a69-bef0-42e6a80c27f9"
      },
      "execution_count": null,
      "outputs": [
        {
          "output_type": "display_data",
          "data": {
            "text/plain": [
              "<Figure size 1000x300 with 4 Axes>"
            ],
            "image/png": "[encoded data removed]"
          },
          "metadata": {}
        }
      ]
    },
    {
      "cell_type": "markdown",
      "source": [
        "# **Data Preprocessing**"
      ],
      "metadata": {
        "id": "AxmR5qpYQdXU"
      }
    },
    {
      "cell_type": "markdown",
      "source": [
        "Flatten Image                      \n"
      ],
      "metadata": {
        "id": "L7vU6HAMQmm0"
      }
    },
    {
      "cell_type": "markdown",
      "source": [
        "\n",
        "\n",
        "![Screenshot 2024-07-24 155735.png](data:image/png;base64,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)"
      ],
      "metadata": {
        "id": "RyywIkAbSxBs"
      }
    },
    {
      "cell_type": "markdown",
      "source": [
        "![Screenshot 2024-07-24 155749.png](data:image/png;base64,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)"
      ],
      "metadata": {
        "id": "pLTNFWEjTanZ"
      }
    },
    {
      "cell_type": "code",
      "source": [
        "df.images.shape"
      ],
      "metadata": {
        "colab": {
          "base_uri": "https://localhost:8080/"
        },
        "id": "SSjl2ji4pV_r",
        "outputId": "eeba38af-15f1-41ee-8a9e-428a3232250b"
      },
      "execution_count": null,
      "outputs": [
        {
          "output_type": "execute_result",
          "data": {
            "text/plain": [
              "(1797, 8, 8)"
            ]
          },
          "metadata": {},
          "execution_count": 7
        }
      ]
    },
    {
      "cell_type": "code",
      "source": [
        "df.images[0]"
      ],
      "metadata": {
        "colab": {
          "base_uri": "https://localhost:8080/"
        },
        "id": "BqjMLd3Tpwvr",
        "outputId": "aedb190f-7f7f-4663-a54b-dd0c453f5e88"
      },
      "execution_count": null,
      "outputs": [
        {
          "output_type": "execute_result",
          "data": {
            "text/plain": [
              "array([[ 0.,  0.,  5., 13.,  9.,  1.,  0.,  0.],\n",
              "       [ 0.,  0., 13., 15., 10., 15.,  5.,  0.],\n",
              "       [ 0.,  3., 15.,  2.,  0., 11.,  8.,  0.],\n",
              "       [ 0.,  4., 12.,  0.,  0.,  8.,  8.,  0.],\n",
              "       [ 0.,  5.,  8.,  0.,  0.,  9.,  8.,  0.],\n",
              "       [ 0.,  4., 11.,  0.,  1., 12.,  7.,  0.],\n",
              "       [ 0.,  2., 14.,  5., 10., 12.,  0.,  0.],\n",
              "       [ 0.,  0.,  6., 13., 10.,  0.,  0.,  0.]])"
            ]
          },
          "metadata": {},
          "execution_count": 8
        }
      ]
    },
    {
      "cell_type": "code",
      "source": [
        "df.images[0].shape"
      ],
      "metadata": {
        "colab": {
          "base_uri": "https://localhost:8080/"
        },
        "id": "zCxmEjvwp3xR",
        "outputId": "c01ca043-72ec-47de-9c3a-23a839e955bb"
      },
      "execution_count": null,
      "outputs": [
        {
          "output_type": "execute_result",
          "data": {
            "text/plain": [
              "(8, 8)"
            ]
          },
          "metadata": {},
          "execution_count": 9
        }
      ]
    },
    {
      "cell_type": "code",
      "source": [
        "len(df.images)"
      ],
      "metadata": {
        "colab": {
          "base_uri": "https://localhost:8080/"
        },
        "id": "EUi3Ukq3qCfo",
        "outputId": "c0989bf7-fbc1-4612-e75d-c232588e8199"
      },
      "execution_count": null,
      "outputs": [
        {
          "output_type": "execute_result",
          "data": {
            "text/plain": [
              "1797"
            ]
          },
          "metadata": {},
          "execution_count": 10
        }
      ]
    },
    {
      "cell_type": "code",
      "source": [
        "n_samples = len(df.images)\n",
        "data = df.images.reshape((n_samples, -1))"
      ],
      "metadata": {
        "id": "nWqZoT0prKcC"
      },
      "execution_count": null,
      "outputs": []
    },
    {
      "cell_type": "code",
      "source": [
        "data[0]"
      ],
      "metadata": {
        "colab": {
          "base_uri": "https://localhost:8080/"
        },
        "id": "er7e7EjasCp-",
        "outputId": "4f307645-c7bc-43da-88c0-93260e8d8e89"
      },
      "execution_count": null,
      "outputs": [
        {
          "output_type": "execute_result",
          "data": {
            "text/plain": [
              "array([ 0.,  0.,  5., 13.,  9.,  1.,  0.,  0.,  0.,  0., 13., 15., 10.,\n",
              "       15.,  5.,  0.,  0.,  3., 15.,  2.,  0., 11.,  8.,  0.,  0.,  4.,\n",
              "       12.,  0.,  0.,  8.,  8.,  0.,  0.,  5.,  8.,  0.,  0.,  9.,  8.,\n",
              "        0.,  0.,  4., 11.,  0.,  1., 12.,  7.,  0.,  0.,  2., 14.,  5.,\n",
              "       10., 12.,  0.,  0.,  0.,  0.,  6., 13., 10.,  0.,  0.,  0.])"
            ]
          },
          "metadata": {},
          "execution_count": 12
        }
      ]
    },
    {
      "cell_type": "code",
      "source": [
        "data[0].shape"
      ],
      "metadata": {
        "colab": {
          "base_uri": "https://localhost:8080/"
        },
        "id": "5Sx-6lSjsF-W",
        "outputId": "71f87ee3-3f43-425f-ef5b-296961a166d8"
      },
      "execution_count": null,
      "outputs": [
        {
          "output_type": "execute_result",
          "data": {
            "text/plain": [
              "(64,)"
            ]
          },
          "metadata": {},
          "execution_count": 13
        }
      ]
    },
    {
      "cell_type": "code",
      "source": [
        "data.shape"
      ],
      "metadata": {
        "colab": {
          "base_uri": "https://localhost:8080/"
        },
        "id": "wRrAfa4RsRuZ",
        "outputId": "89cabbfa-5423-4ce8-be2b-ab60251e7794"
      },
      "execution_count": null,
      "outputs": [
        {
          "output_type": "execute_result",
          "data": {
            "text/plain": [
              "(1797, 64)"
            ]
          },
          "metadata": {},
          "execution_count": 14
        }
      ]
    },
    {
      "cell_type": "markdown",
      "source": [
        "# **Scaling Image Data**"
      ],
      "metadata": {
        "id": "czkEaOOiT1f5"
      }
    },
    {
      "cell_type": "code",
      "source": [
        "data.min()"
      ],
      "metadata": {
        "colab": {
          "base_uri": "https://localhost:8080/"
        },
        "id": "pZ3wcRIJsUji",
        "outputId": "a777acbb-484c-4096-8ea3-82f5124c250e"
      },
      "execution_count": null,
      "outputs": [
        {
          "output_type": "execute_result",
          "data": {
            "text/plain": [
              "0.0"
            ]
          },
          "metadata": {},
          "execution_count": 15
        }
      ]
    },
    {
      "cell_type": "code",
      "source": [
        "data.max()"
      ],
      "metadata": {
        "colab": {
          "base_uri": "https://localhost:8080/"
        },
        "id": "0rn6LR_ns7k0",
        "outputId": "8ac57395-f3be-4f27-cb25-3f8ce49de3cb"
      },
      "execution_count": null,
      "outputs": [
        {
          "output_type": "execute_result",
          "data": {
            "text/plain": [
              "16.0"
            ]
          },
          "metadata": {},
          "execution_count": 16
        }
      ]
    },
    {
      "cell_type": "code",
      "source": [
        "data= data/16"
      ],
      "metadata": {
        "id": "_Qhh07iCtSPw"
      },
      "execution_count": null,
      "outputs": []
    },
    {
      "cell_type": "code",
      "source": [
        "data.min()"
      ],
      "metadata": {
        "colab": {
          "base_uri": "https://localhost:8080/"
        },
        "id": "kP0XDc5htwqO",
        "outputId": "fe1fcf29-237b-4bac-eb57-ea0eabb4d7e3"
      },
      "execution_count": null,
      "outputs": [
        {
          "output_type": "execute_result",
          "data": {
            "text/plain": [
              "0.0"
            ]
          },
          "metadata": {},
          "execution_count": 18
        }
      ]
    },
    {
      "cell_type": "code",
      "source": [
        "data.max()"
      ],
      "metadata": {
        "colab": {
          "base_uri": "https://localhost:8080/"
        },
        "id": "OgPRGBywtzdA",
        "outputId": "a74bf97d-030b-48c7-96d0-9c56d302c529"
      },
      "execution_count": null,
      "outputs": [
        {
          "output_type": "execute_result",
          "data": {
            "text/plain": [
              "1.0"
            ]
          },
          "metadata": {},
          "execution_count": 19
        }
      ]
    },
    {
      "cell_type": "code",
      "source": [
        "data[0]"
      ],
      "metadata": {
        "colab": {
          "base_uri": "https://localhost:8080/"
        },
        "id": "D6YYnKoMt9uL",
        "outputId": "0146af72-fb82-45ff-cb7b-cdc0af83a689"
      },
      "execution_count": null,
      "outputs": [
        {
          "output_type": "execute_result",
          "data": {
            "text/plain": [
              "array([0.    , 0.    , 0.3125, 0.8125, 0.5625, 0.0625, 0.    , 0.    ,\n",
              "       0.    , 0.    , 0.8125, 0.9375, 0.625 , 0.9375, 0.3125, 0.    ,\n",
              "       0.    , 0.1875, 0.9375, 0.125 , 0.    , 0.6875, 0.5   , 0.    ,\n",
              "       0.    , 0.25  , 0.75  , 0.    , 0.    , 0.5   , 0.5   , 0.    ,\n",
              "       0.    , 0.3125, 0.5   , 0.    , 0.    , 0.5625, 0.5   , 0.    ,\n",
              "       0.    , 0.25  , 0.6875, 0.    , 0.0625, 0.75  , 0.4375, 0.    ,\n",
              "       0.    , 0.125 , 0.875 , 0.3125, 0.625 , 0.75  , 0.    , 0.    ,\n",
              "       0.    , 0.    , 0.375 , 0.8125, 0.625 , 0.    , 0.    , 0.    ])"
            ]
          },
          "metadata": {},
          "execution_count": 20
        }
      ]
    },
    {
      "cell_type": "markdown",
      "source": [
        "# **Train Test Split Data**"
      ],
      "metadata": {
        "id": "ZpKKo6s_UGDN"
      }
    },
    {
      "cell_type": "code",
      "source": [
        "from sklearn.model_selection import train_test_split"
      ],
      "metadata": {
        "id": "5n_E4K4zuK6X"
      },
      "execution_count": null,
      "outputs": []
    },
    {
      "cell_type": "code",
      "source": [
        "X_train, X_test, y_train, y_test = train_test_split(data, df.target, test_size=0.3)"
      ],
      "metadata": {
        "id": "mndutjYyuOjM"
      },
      "execution_count": null,
      "outputs": []
    },
    {
      "cell_type": "code",
      "source": [
        "X_train.shape, X_test.shape, y_train.shape, y_test.shape"
      ],
      "metadata": {
        "colab": {
          "base_uri": "https://localhost:8080/"
        },
        "id": "xBC_NKP8urVg",
        "outputId": "19fb3c63-3b75-4ea8-827a-a4c62a0985be"
      },
      "execution_count": null,
      "outputs": [
        {
          "output_type": "execute_result",
          "data": {
            "text/plain": [
              "((1257, 64), (540, 64), (1257,), (540,))"
            ]
          },
          "metadata": {},
          "execution_count": 23
        }
      ]
    },
    {
      "cell_type": "markdown",
      "source": [
        "# **Random Forest Model**"
      ],
      "metadata": {
        "id": "TILhRu9AUP9g"
      }
    },
    {
      "cell_type": "code",
      "source": [
        "from sklearn.ensemble import RandomForestClassifier"
      ],
      "metadata": {
        "id": "YFdU6d53uzDo"
      },
      "execution_count": null,
      "outputs": []
    },
    {
      "cell_type": "code",
      "source": [
        "rf = RandomForestClassifier()"
      ],
      "metadata": {
        "id": "ouxVbwnBvESn"
      },
      "execution_count": null,
      "outputs": []
    },
    {
      "cell_type": "code",
      "source": [
        "rf.fit(X_train, y_train)"
      ],
      "metadata": {
        "colab": {
          "base_uri": "https://localhost:8080/",
          "height": 75
        },
        "id": "n_cxGIA2wGZ1",
        "outputId": "ddecaca3-2a0a-4ec9-b4d3-88d1955e7a53"
      },
      "execution_count": null,
      "outputs": [
        {
          "output_type": "execute_result",
          "data": {
            "text/plain": [
              "RandomForestClassifier()"
            ],
            "text/html": [
              "<style>#sk-container-id-1 {color: black;background-color: white;}#sk-container-id-1 pre{padding: 0;}#sk-container-id-1 div.sk-toggleable {background-color: white;}#sk-container-id-1 label.sk-toggleable__label {cursor: pointer;display: block;width: 100%;margin-bottom: 0;padding: 0.3em;box-sizing: border-box;text-align: center;}#sk-container-id-1 label.sk-toggleable__label-arrow:before {content: \"▸\";float: left;margin-right: 0.25em;color: #696969;}#sk-container-id-1 label.sk-toggleable__label-arrow:hover:before {color: black;}#sk-container-id-1 div.sk-estimator:hover label.sk-toggleable__label-arrow:before {color: black;}#sk-container-id-1 div.sk-toggleable__content {max-height: 0;max-width: 0;overflow: hidden;text-align: left;background-color: #f0f8ff;}#sk-container-id-1 div.sk-toggleable__content pre {margin: 0.2em;color: black;border-radius: 0.25em;background-color: #f0f8ff;}#sk-container-id-1 input.sk-toggleable__control:checked~div.sk-toggleable__content {max-height: 200px;max-width: 100%;overflow: auto;}#sk-container-id-1 input.sk-toggleable__control:checked~label.sk-toggleable__label-arrow:before {content: \"▾\";}#sk-container-id-1 div.sk-estimator input.sk-toggleable__control:checked~label.sk-toggleable__label {background-color: #d4ebff;}#sk-container-id-1 div.sk-label input.sk-toggleable__control:checked~label.sk-toggleable__label {background-color: #d4ebff;}#sk-container-id-1 input.sk-hidden--visually {border: 0;clip: rect(1px 1px 1px 1px);clip: rect(1px, 1px, 1px, 1px);height: 1px;margin: -1px;overflow: hidden;padding: 0;position: absolute;width: 1px;}#sk-container-id-1 div.sk-estimator {font-family: monospace;background-color: #f0f8ff;border: 1px dotted black;border-radius: 0.25em;box-sizing: border-box;margin-bottom: 0.5em;}#sk-container-id-1 div.sk-estimator:hover {background-color: #d4ebff;}#sk-container-id-1 div.sk-parallel-item::after {content: \"\";width: 100%;border-bottom: 1px solid gray;flex-grow: 1;}#sk-container-id-1 div.sk-label:hover label.sk-toggleable__label {background-color: #d4ebff;}#sk-container-id-1 div.sk-serial::before {content: \"\";position: absolute;border-left: 1px solid gray;box-sizing: border-box;top: 0;bottom: 0;left: 50%;z-index: 0;}#sk-container-id-1 div.sk-serial {display: flex;flex-direction: column;align-items: center;background-color: white;padding-right: 0.2em;padding-left: 0.2em;position: relative;}#sk-container-id-1 div.sk-item {position: relative;z-index: 1;}#sk-container-id-1 div.sk-parallel {display: flex;align-items: stretch;justify-content: center;background-color: white;position: relative;}#sk-container-id-1 div.sk-item::before, #sk-container-id-1 div.sk-parallel-item::before {content: \"\";position: absolute;border-left: 1px solid gray;box-sizing: border-box;top: 0;bottom: 0;left: 50%;z-index: -1;}#sk-container-id-1 div.sk-parallel-item {display: flex;flex-direction: column;z-index: 1;position: relative;background-color: white;}#sk-container-id-1 div.sk-parallel-item:first-child::after {align-self: flex-end;width: 50%;}#sk-container-id-1 div.sk-parallel-item:last-child::after {align-self: flex-start;width: 50%;}#sk-container-id-1 div.sk-parallel-item:only-child::after {width: 0;}#sk-container-id-1 div.sk-dashed-wrapped {border: 1px dashed gray;margin: 0 0.4em 0.5em 0.4em;box-sizing: border-box;padding-bottom: 0.4em;background-color: white;}#sk-container-id-1 div.sk-label label {font-family: monospace;font-weight: bold;display: inline-block;line-height: 1.2em;}#sk-container-id-1 div.sk-label-container {text-align: center;}#sk-container-id-1 div.sk-container {/* jupyter's `normalize.less` sets `[hidden] { display: none; }` but bootstrap.min.css set `[hidden] { display: none !important; }` so we also need the `!important` here to be able to override the default hidden behavior on the sphinx rendered scikit-learn.org. See: https://github.com/scikit-learn/scikit-learn/issues/21755 */display: inline-block !important;position: relative;}#sk-container-id-1 div.sk-text-repr-fallback {display: none;}</style><div id=\"sk-container-id-1\" class=\"sk-top-container\"><div class=\"sk-text-repr-fallback\"><pre>RandomForestClassifier()</pre><b>In a Jupyter environment, please rerun this cell to show the HTML representation or trust the notebook. <br />On GitHub, the HTML representation is unable to render, please try loading this page with nbviewer.org.</b></div><div class=\"sk-container\" hidden><div class=\"sk-item\"><div class=\"sk-estimator sk-toggleable\"><input class=\"sk-toggleable__control sk-hidden--visually\" id=\"sk-estimator-id-1\" type=\"checkbox\" checked><label for=\"sk-estimator-id-1\" class=\"sk-toggleable__label sk-toggleable__label-arrow\">RandomForestClassifier</label><div class=\"sk-toggleable__content\"><pre>RandomForestClassifier()</pre></div></div></div></div></div>"
            ]
          },
          "metadata": {},
          "execution_count": 26
        }
      ]
    },
    {
      "cell_type": "markdown",
      "source": [
        "# **Predict Test Data**"
      ],
      "metadata": {
        "id": "Ti1EF_WNUc8s"
      }
    },
    {
      "cell_type": "code",
      "source": [
        "y_pred = rf.predict(X_test)"
      ],
      "metadata": {
        "id": "OuipqG9wwQNA"
      },
      "execution_count": null,
      "outputs": []
    },
    {
      "cell_type": "code",
      "source": [
        "y_pred"
      ],
      "metadata": {
        "colab": {
          "base_uri": "https://localhost:8080/"
        },
        "id": "fuKujyWrwevO",
        "outputId": "57397eb5-8ebc-4d5a-d0d8-09ddb01c2073"
      },
      "execution_count": null,
      "outputs": [
        {
          "output_type": "execute_result",
          "data": {
            "text/plain": [
              "array([6, 8, 1, 0, 9, 6, 4, 8, 7, 1, 5, 0, 1, 1, 2, 9, 8, 1, 8, 0, 4, 9,\n",
              "       8, 3, 0, 8, 0, 4, 0, 3, 6, 6, 7, 3, 1, 5, 6, 0, 4, 8, 8, 6, 3, 4,\n",
              "       6, 6, 1, 0, 6, 6, 9, 9, 4, 0, 5, 3, 3, 5, 7, 7, 8, 8, 0, 1, 3, 7,\n",
              "       0, 4, 8, 4, 2, 2, 3, 7, 4, 4, 5, 9, 6, 9, 1, 8, 0, 3, 5, 3, 9, 8,\n",
              "       9, 9, 0, 2, 3, 5, 4, 4, 0, 6, 8, 8, 3, 8, 2, 0, 1, 2, 4, 8, 6, 8,\n",
              "       0, 3, 4, 8, 2, 3, 0, 2, 7, 8, 9, 6, 3, 5, 4, 9, 2, 7, 1, 0, 6, 0,\n",
              "       5, 0, 8, 3, 0, 3, 9, 4, 0, 4, 5, 2, 7, 0, 9, 4, 8, 8, 1, 1, 6, 4,\n",
              "       7, 8, 6, 2, 6, 8, 2, 3, 7, 7, 3, 5, 5, 8, 6, 6, 1, 9, 2, 2, 7, 7,\n",
              "       4, 3, 4, 2, 4, 2, 7, 9, 2, 2, 4, 0, 3, 2, 1, 0, 9, 9, 3, 4, 2, 9,\n",
              "       6, 1, 7, 8, 5, 4, 8, 4, 8, 7, 6, 6, 2, 9, 8, 2, 3, 3, 8, 6, 3, 9,\n",
              "       0, 0, 1, 4, 6, 5, 8, 6, 5, 6, 2, 3, 9, 9, 5, 2, 2, 4, 1, 4, 9, 2,\n",
              "       3, 2, 9, 6, 1, 5, 2, 7, 4, 5, 9, 0, 7, 5, 9, 2, 1, 9, 4, 1, 8, 5,\n",
              "       1, 1, 2, 9, 3, 4, 9, 0, 2, 2, 8, 0, 3, 8, 7, 0, 5, 5, 9, 5, 4, 5,\n",
              "       4, 4, 8, 2, 7, 8, 9, 9, 5, 6, 1, 7, 1, 9, 0, 3, 4, 0, 7, 6, 5, 9,\n",
              "       6, 0, 6, 1, 4, 7, 9, 5, 5, 2, 7, 3, 5, 0, 1, 9, 7, 5, 3, 0, 6, 4,\n",
              "       6, 9, 6, 7, 0, 5, 0, 2, 1, 6, 9, 9, 6, 5, 4, 2, 1, 8, 2, 5, 9, 1,\n",
              "       6, 0, 3, 9, 0, 1, 6, 3, 1, 4, 5, 1, 4, 7, 0, 0, 5, 2, 4, 1, 7, 9,\n",
              "       3, 2, 9, 5, 4, 8, 7, 8, 3, 2, 4, 8, 5, 4, 3, 8, 6, 7, 4, 8, 4, 3,\n",
              "       4, 2, 3, 1, 1, 7, 7, 5, 7, 0, 7, 0, 4, 5, 8, 5, 8, 0, 1, 1, 7, 3,\n",
              "       6, 8, 5, 0, 5, 9, 6, 6, 6, 0, 9, 1, 9, 9, 2, 0, 1, 9, 6, 6, 7, 7,\n",
              "       8, 3, 7, 2, 6, 1, 8, 3, 0, 9, 5, 1, 5, 2, 7, 0, 5, 9, 0, 2, 1, 1,\n",
              "       8, 0, 7, 4, 6, 4, 6, 6, 0, 1, 7, 8, 0, 7, 5, 1, 5, 5, 6, 2, 9, 7,\n",
              "       7, 0, 9, 7, 7, 6, 0, 9, 7, 5, 6, 8, 5, 2, 2, 8, 1, 0, 6, 3, 9, 9,\n",
              "       0, 5, 5, 0, 9, 5, 2, 5, 7, 0, 4, 4, 4, 3, 3, 5, 6, 0, 0, 3, 6, 6,\n",
              "       7, 5, 3, 1, 1, 8, 8, 3, 9, 6, 5, 9])"
            ]
          },
          "metadata": {},
          "execution_count": 28
        }
      ]
    },
    {
      "cell_type": "markdown",
      "source": [
        "# **Model Accuracy**"
      ],
      "metadata": {
        "id": "KB_hQ5mZUq0_"
      }
    },
    {
      "cell_type": "code",
      "source": [
        "from sklearn.metrics import confusion_matrix, classification_report"
      ],
      "metadata": {
        "id": "BoObDixlwicj"
      },
      "execution_count": null,
      "outputs": []
    },
    {
      "cell_type": "code",
      "source": [
        "confusion_matrix(y_test, y_pred)"
      ],
      "metadata": {
        "colab": {
          "base_uri": "https://localhost:8080/"
        },
        "id": "P_sPefDOxFX4",
        "outputId": "2c596d54-32d7-4927-9684-f9cb94e89e4c"
      },
      "execution_count": null,
      "outputs": [
        {
          "output_type": "execute_result",
          "data": {
            "text/plain": [
              "array([[62,  0,  0,  0,  0,  0,  0,  0,  0,  0],\n",
              "       [ 0, 48,  0,  0,  0,  1,  0,  0,  0,  0],\n",
              "       [ 0,  0, 48,  0,  0,  0,  0,  0,  0,  0],\n",
              "       [ 0,  0,  0, 47,  0,  1,  0,  0,  0,  0],\n",
              "       [ 0,  0,  0,  0, 54,  0,  0,  0,  0,  0],\n",
              "       [ 0,  0,  0,  0,  0, 54,  0,  0,  1,  1],\n",
              "       [ 0,  0,  0,  0,  0,  1, 58,  0,  0,  0],\n",
              "       [ 0,  0,  0,  0,  0,  0,  0, 49,  0,  1],\n",
              "       [ 0,  1,  1,  0,  0,  0,  0,  1, 53,  1],\n",
              "       [ 0,  0,  0,  1,  0,  0,  0,  0,  0, 56]])"
            ]
          },
          "metadata": {},
          "execution_count": 30
        }
      ]
    },
    {
      "cell_type": "code",
      "source": [
        "print(classification_report(y_test, y_pred))"
      ],
      "metadata": {
        "colab": {
          "base_uri": "https://localhost:8080/"
        },
        "id": "2n_7UNWZxUWt",
        "outputId": "77eb78b1-fc40-4dad-84db-8cac69541dec"
      },
      "execution_count": null,
      "outputs": [
        {
          "output_type": "stream",
          "name": "stdout",
          "text": [
            "              precision    recall  f1-score   support\n",
            "\n",
            "           0       1.00      1.00      1.00        62\n",
            "           1       0.98      0.98      0.98        49\n",
            "           2       0.98      1.00      0.99        48\n",
            "           3       0.98      0.98      0.98        48\n",
            "           4       1.00      1.00      1.00        54\n",
            "           5       0.95      0.96      0.96        56\n",
            "           6       1.00      0.98      0.99        59\n",
            "           7       0.98      0.98      0.98        50\n",
            "           8       0.98      0.93      0.95        57\n",
            "           9       0.95      0.98      0.97        57\n",
            "\n",
            "    accuracy                           0.98       540\n",
            "   macro avg       0.98      0.98      0.98       540\n",
            "weighted avg       0.98      0.98      0.98       540\n",
            "\n"
          ]
        }
      ]
    },
    {
      "cell_type": "markdown",
      "source": [
        "# **Explaintion**"
      ],
      "metadata": {
        "id": "zhhrKyzHVgfV"
      }
    },
    {
      "cell_type": "markdown",
      "source": [
        "\n",
        "\n",
        "*   **Import Libraries:**\n",
        "\n",
        "                   *   pandas, numpy, and matplotlib.pyplot for data manipulation and visualization.\n",
        "                   *   sklearn.datasets.load_digits to load the digit dataset.\n",
        "                   *   sklearn.model_selection.train_test_split to split the data into training and testing sets.\n",
        "                   *   sklearn.ensemble.RandomForestClassifier to create and train the Random Forest classifier.\n",
        "                   *   sklearn.metrics.confusion_matrix, classification_report to evaluate the model.\n",
        "\n",
        "*   **Load the Data:**\n",
        "\n",
        "\n",
        "                   *   load_digits() loads the dataset into a variable df.\n",
        "\n",
        "\n",
        "*   **Visualize the First 4 Images:**\n",
        "\n",
        "\n",
        "                   *   plt.subplots creates a plot with 1 row and 4 columns.\n",
        "                   *   Loop through the first 4 images and their labels to display them using imshow.\n",
        "\n",
        "\n",
        "*   **Data Preprocessing:**\n",
        "\n",
        "\n",
        "                   *   Flatten the 8x8 images into 1D arrays of 64 elements.\n",
        "                   *   Normalize the pixel values from the range [0, 16] to [0, 1].\n",
        "\n",
        "\n",
        "*   **Train-Test Split:**\n",
        "\n",
        "\n",
        "                   *   Split the data into training (70%) and testing (30%) sets using train_test_split.\n",
        "\n",
        "\n",
        "\n",
        "*   **Train the Model:**\n",
        "\n",
        "\n",
        "                   *   Initialize RandomForestClassifier and train it using fit with the training data.\n",
        "\n",
        "\n",
        "*   **Predict Test Data:**\n",
        "\n",
        "\n",
        "                   *   Use the trained model to predict the labels for the test data.\n",
        "\n",
        "\n",
        "*   **Evaluate the Model:**\n",
        "\n",
        "\n",
        "                   *   Use confusion_matrix and classification_report to evaluate the model’s performance and print the results.\n",
        "\n",
        "\n",
        "\n",
        "\n",
        "\n",
        "\n",
        "\n",
        "\n",
        "\n",
        "\n",
        "\n",
        "\n",
        "\n",
        "\n",
        "\n",
        "\n"
      ],
      "metadata": {
        "id": "4GElxtl2VkK2"
      }
    }
  ]
}